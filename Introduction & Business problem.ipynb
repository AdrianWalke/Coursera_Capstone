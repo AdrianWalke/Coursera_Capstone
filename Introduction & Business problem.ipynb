{
 "cells": [
  {
   "cell_type": "markdown",
   "metadata": {},
   "source": [
    "## Problem Background"
   ]
  },
  {
   "cell_type": "markdown",
   "metadata": {},
   "source": [
    "Due to the spread of Covid-19, good health care has been shown to be an important factor in containing and fighting pandemics.\n",
    "Therefore, the possible location of a new pharmacy in Manhattan will be analysed in order to make a recommendation for the opening of a branch for a pharmacist. The turnover of a pharmacy and the supply of medicines to the population depends not only on the number of pharmacies but also on the population density of a neighbourhood."
   ]
  },
  {
   "cell_type": "markdown",
   "metadata": {},
   "source": [
    "And thus any new business venture or expansion needs to be reviewed carefully and strategically targeted so that the return on investment will be sustainably reasonable and more importantly the investment can be considered as less risky."
   ]
  },
  {
   "cell_type": "markdown",
   "metadata": {},
   "source": [
    "## Problem Description"
   ]
  },
  {
   "cell_type": "markdown",
   "metadata": {},
   "source": [
    "This problem exists for every entrepreneur who plans to open a branch. In each case he tries to find an optimal location for a new branch. Both costs and possible turnover potential depend not least on the chosen location. The fewer competitors there are at a given location, the higher the market power in a neighbourhood and the more people in a neighbourhood, the higher the turnover potential. \n",
    "Furthermore, a nationwide coverage with medical facilities such as pharmacies is inherent in the infrastructure of a city and therefore of public interest.\n"
   ]
  },
  {
   "cell_type": "markdown",
   "metadata": {},
   "source": [
    "## Target Audience "
   ]
  },
  {
   "cell_type": "markdown",
   "metadata": {},
   "source": [
    "The main target group is the management of a large nationwide operating pharmacy chain which is planning an expansion to the east coast. Stakeholders in the city administration are also important as the nationwide coverage with medical facilities such as pharmacies is important for the city infrastructure."
   ]
  }
 ],
 "metadata": {
  "kernelspec": {
   "display_name": "Python 3",
   "language": "python",
   "name": "python3"
  },
  "language_info": {
   "codemirror_mode": {
    "name": "ipython",
    "version": 3
   },
   "file_extension": ".py",
   "mimetype": "text/x-python",
   "name": "python",
   "nbconvert_exporter": "python",
   "pygments_lexer": "ipython3",
   "version": "3.7.3"
  }
 },
 "nbformat": 4,
 "nbformat_minor": 2
}
