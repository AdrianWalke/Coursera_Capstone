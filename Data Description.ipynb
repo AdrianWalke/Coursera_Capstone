{
 "cells": [
  {
   "cell_type": "markdown",
   "metadata": {},
   "source": [
    "## Data Description"
   ]
  },
  {
   "cell_type": "markdown",
   "metadata": {},
   "source": [
    "To solve the problem identified, site data will be used and analysed to derive a recommendation.\n",
    "In particular, the Foursquare API is used for this purpose, which uses queries to output the venues in each neighbourhood within a given radius.\n",
    "This data is combined with public data on the demographics of each neighborhood. This data is publicly available from the City of New York and can be accessed at https://data.cityofnewyork.us/api/views/8m6s-esnp/rows.csv.\n",
    "An extract of the data is shown below.\n"
   ]
  },
  {
   "cell_type": "code",
   "execution_count": 2,
   "metadata": {},
   "outputs": [
    {
     "data": {
      "text/html": [
       "<div>\n",
       "<style scoped>\n",
       "    .dataframe tbody tr th:only-of-type {\n",
       "        vertical-align: middle;\n",
       "    }\n",
       "\n",
       "    .dataframe tbody tr th {\n",
       "        vertical-align: top;\n",
       "    }\n",
       "\n",
       "    .dataframe thead th {\n",
       "        text-align: right;\n",
       "    }\n",
       "</style>\n",
       "<table border=\"1\" class=\"dataframe\">\n",
       "  <thead>\n",
       "    <tr style=\"text-align: right;\">\n",
       "      <th></th>\n",
       "      <th>Borough</th>\n",
       "      <th>Year</th>\n",
       "      <th>FIPS County Code</th>\n",
       "      <th>NTA Code</th>\n",
       "      <th>NTA Name</th>\n",
       "      <th>Population</th>\n",
       "    </tr>\n",
       "  </thead>\n",
       "  <tbody>\n",
       "    <tr>\n",
       "      <th>0</th>\n",
       "      <td>Manhattan</td>\n",
       "      <td>2010</td>\n",
       "      <td>61</td>\n",
       "      <td>MN01</td>\n",
       "      <td>Marble Hill-Inwood</td>\n",
       "      <td>46746</td>\n",
       "    </tr>\n",
       "    <tr>\n",
       "      <th>1</th>\n",
       "      <td>Manhattan</td>\n",
       "      <td>2010</td>\n",
       "      <td>61</td>\n",
       "      <td>MN03</td>\n",
       "      <td>Central Harlem North-Polo Grounds</td>\n",
       "      <td>75282</td>\n",
       "    </tr>\n",
       "    <tr>\n",
       "      <th>2</th>\n",
       "      <td>Manhattan</td>\n",
       "      <td>2010</td>\n",
       "      <td>61</td>\n",
       "      <td>MN04</td>\n",
       "      <td>Hamilton Heights</td>\n",
       "      <td>48520</td>\n",
       "    </tr>\n",
       "    <tr>\n",
       "      <th>3</th>\n",
       "      <td>Manhattan</td>\n",
       "      <td>2010</td>\n",
       "      <td>61</td>\n",
       "      <td>MN06</td>\n",
       "      <td>Manhattanville</td>\n",
       "      <td>22950</td>\n",
       "    </tr>\n",
       "    <tr>\n",
       "      <th>4</th>\n",
       "      <td>Manhattan</td>\n",
       "      <td>2010</td>\n",
       "      <td>61</td>\n",
       "      <td>MN09</td>\n",
       "      <td>Morningside Heights</td>\n",
       "      <td>55929</td>\n",
       "    </tr>\n",
       "  </tbody>\n",
       "</table>\n",
       "</div>"
      ],
      "text/plain": [
       "     Borough  Year  FIPS County Code NTA Code  \\\n",
       "0  Manhattan  2010                61     MN01   \n",
       "1  Manhattan  2010                61     MN03   \n",
       "2  Manhattan  2010                61     MN04   \n",
       "3  Manhattan  2010                61     MN06   \n",
       "4  Manhattan  2010                61     MN09   \n",
       "\n",
       "                            NTA Name  Population  \n",
       "0                 Marble Hill-Inwood       46746  \n",
       "1  Central Harlem North-Polo Grounds       75282  \n",
       "2                   Hamilton Heights       48520  \n",
       "3                     Manhattanville       22950  \n",
       "4                Morningside Heights       55929  "
      ]
     },
     "execution_count": 2,
     "metadata": {},
     "output_type": "execute_result"
    }
   ],
   "source": [
    "import pandas as pd\n",
    "link=\"https://data.cityofnewyork.us/api/views/8m6s-esnp/rows.csv?accessType=DOWNLOAD\"\n",
    "manhattan_pop= pd.read_csv(link)\n",
    "manhattan_pop.head()"
   ]
  }
 ],
 "metadata": {
  "kernelspec": {
   "display_name": "Python 3",
   "language": "python",
   "name": "python3"
  },
  "language_info": {
   "codemirror_mode": {
    "name": "ipython",
    "version": 3
   },
   "file_extension": ".py",
   "mimetype": "text/x-python",
   "name": "python",
   "nbconvert_exporter": "python",
   "pygments_lexer": "ipython3",
   "version": "3.7.3"
  }
 },
 "nbformat": 4,
 "nbformat_minor": 2
}
